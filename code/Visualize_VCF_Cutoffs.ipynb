{
 "cells": [
  {
   "cell_type": "markdown",
   "metadata": {},
   "source": [
    "# VCF Filtration Cutoffs"
   ]
  },
  {
   "cell_type": "code",
   "execution_count": 94,
   "metadata": {
    "collapsed": true
   },
   "outputs": [],
   "source": [
    "# Import libraries and define functions\n",
    "from cyvcf2 import VCF\n",
    "import pandas as pd\n",
    "import numpy as np\n",
    "from plotnine import *\n",
    "\n",
    "# info can be AC,AF,AN,DP,ExcessHet;FS;InbreedingCoeff;MLEAC;MLEAF;MQ;QD;SOR\n",
    "\n",
    "def Filter(vcf_file, info, Min, Max, num_sites=100000, start_site=1000):\n",
    "    r=[]\n",
    "    t=[]\n",
    "    vcf=VCF(vcf_file)\n",
    "\n",
    "    for i, variant in enumerate(vcf):\n",
    "        if i >= start_site and i < start_site + num_sites:\n",
    "            if len(variant.ALT[0]) == 1 and variant.ALT[0] != \"*\":\n",
    "                try:\n",
    "                    if variant.INFO.get(info) > Min and variant.INFO.get(info) < Max:\n",
    "                        r.append(variant.INFO.get(info))\n",
    "                    t.append(variant.INFO.get(info))\n",
    "                except TypeError:\n",
    "                    print(\"TypeError caused by \", variant)\n",
    "        elif i < start_site:\n",
    "            pass\n",
    "        else:\n",
    "            break\n",
    "    print(str((len(r)/len(t))*100) + \"% retained\")\n",
    "    return(r,t)"
   ]
  },
  {
   "cell_type": "markdown",
   "metadata": {},
   "source": [
    "#### Specify VCF file"
   ]
  },
  {
   "cell_type": "code",
   "execution_count": 35,
   "metadata": {
    "collapsed": true
   },
   "outputs": [],
   "source": [
    "vcf_file=\"/users/pmonnahan/Documents/Research/Mimulus-complex/vcfs/Mim_sNNffold_9_FULL_Variant_GATK.vcf.gz\""
   ]
  },
  {
   "cell_type": "markdown",
   "metadata": {},
   "source": [
    "**Visualize Filtration**"
   ]
  },
  {
   "cell_type": "code",
   "execution_count": 99,
   "metadata": {
    "scrolled": false
   },
   "outputs": [
    {
     "name": "stdout",
     "output_type": "stream",
     "text": [
      "TypeError caused by  sNNffold_9\t535378\t.\tC\tT\t26.51\t.\tAC=2;AF=0.043;AN=46;DP=351;ExcessHet=0.0485;FS=0;InbreedingCoeff=0.3477;MLEAC=1;MLEAF=0.022;MQ=0;SOR=0.693\tGT:AD:DP:GQ:PGT:PID:PL\t./.:0,0:0:.:.:.:0,0,0\t./.:0,0:0:.:.:.:0,0,0\t./.:0,0:0:.:.:.:0,0,0\t0/0:5,0:5:9:.:.:0,9,135\t./.:0,0:0:.:.:.:0,0,0\t./.:1,0:1:.:.:.:0,0,0\t./.:0,0:0:.:.:.:0,0,0\t./.:0,0:0:.:.:.:0,0,0\t./.:0,0:0:.:.:.:0,0,0\t./.:0,0:0:.:.:.:0,0,0\t./.:0,0:0:.:.:.:0,0,0\t./.:0,0:0:.:.:.:0,0,0\t./.:0,0:0:.:.:.:0,0,0\t./.:1,0:1:.:.:.:0,0,0\t./.:10,0:10:.:.:.:0,0,0\t./.:0,0:0:.:.:.:0,0,0\t0/0:15,0:15:39:.:.:0,39,585\t./.:0,0:0:.:.:.:0,0,0\t0/0:10,0:10:12:.:.:0,12,180\t./.:0,0:0:.:.:.:0,0,0\t0/0:43,0:43:75:.:.:0,75,1125\t./.:0,0:0:.:.:.:0,0,0\t./.:0,0:0:.:.:.:0,0,0\t./.:0,0:0:.:.:.:0,0,0\t./.:0,0:0:.:.:.:0,0,0\t./.:.:.:.:.:.:.\t./.:2,0:2:.:.:.:0,0,0\t./.:5,0:5:.:.:.:0,0,0\t./.:0,0:0:.:.:.:0,0,0\t./.:0,0:0:.:.:.:0,0,0\t./.:0,0:0:.:.:.:0,0,0\t0/0:25,0:25:48:.:.:0,48,720\t./.:0,0:0:.:.:.:0,0,0\t./.:0,0:0:.:.:.:0,0,0\t./.:0,0:0:.:.:.:0,0,0\t./.:0,0:0:.:.:.:0,0,0\t./.:0,0:0:.:.:.:0,0,0\t./.:0,0:0:.:.:.:0,0,0\t0/0:5,0:5:6:.:.:0,6,90\t./.:5,0:5:.:.:.:0,0,0\t./.:0,0:0:.:.:.:0,0,0\t0/0:8,0:8:3:.:.:0,3,45\t0/0:12,0:12:15:.:.:0,15,225\t./.:5,0:5:.:.:.:0,0,0\t0/0:20,0:20:21:.:.:0,21,315\t0/0:5,0:5:6:.:.:0,6,90\t./.:.:.:.:.:.:.\t./.:.:.:.:.:.:.\t0/0:19,0:19:24:.:.:0,24,360\t0/0:12,0:12:15:.:.:0,15,225\t0/0:19,0:19:18:.:.:0,18,270\t./.:0,0:0:.:.:.:0,0,0\t./.:0,0:0:.:.:.:0,0,0\t./.:0,0:0:.:.:.:0,0,0\t./.:0,0:0:.:.:.:0,0,0\t./.:0,0:0:.:.:.:0,0,0\t./.:0,0:0:.:.:.:0,0,0\t./.:0,0:0:.:.:.:0,0,0\t0/0:9,0:9:15:.:.:0,15,225\t./.:6,0:6:.:.:.:0,0,0\t0/0:4,0:4:9:.:.:0,9,135\t./.:0,0:0:.:.:.:0,0,0\t./.:0,0:0:.:.:.:0,0,0\t./.:0,0:0:.:.:.:0,0,0\t./.:7,0:7:.:.:.:0,0,0\t./.:0,0:0:.:.:.:0,0,0\t./.:0,0:0:.:.:.:0,0,0\t./.:2,0:2:.:.:.:0,0,0\t0/0:14,0:14:21:.:.:0,21,315\t./.:0,0:0:.:.:.:0,0,0\t0/0:7,0:7:6:.:.:0,6,90\t./.:0,0:0:.:.:.:0,0,0\t./.:0,0:0:.:.:.:0,0,0\t./.:0,0:0:.:.:.:0,0,0\t./.:0,0:0:.:.:.:0,0,0\t./.:0,0:0:.:.:.:0,0,0\t0/0:13,0:13:14:.:.:0,14,378\t./.:0,0:0:.:.:.:0,0,0\t./.:0,0:0:.:.:.:0,0,0\t0/0:5,0:5:6:.:.:0,6,90\t0/0:23,0:23:25:.:.:0,25,880\t./.:0,0:0:.:.:.:0,0,0\t./.:0,0:0:.:.:.:0,0,0\t./.:0,0:0:.:.:.:0,0,0\t./.:0,0:0:.:.:.:0,0,0\t1/1:0,0:.:3:1|1:535378_C_T:39,3,0\t./.:0,0:0:.:.:.:0,0,0\t./.:0,0:0:.:.:.:0,0,0\t./.:0,0:0:.:.:.:0,0,0\t./.:0,0:0:.:.:.:0,0,0\t./.:7,0:7:.:.:.:0,0,0\t./.:8,0:8:.:.:.:0,0,0\t0/0:10,0:10:9:.:.:0,9,135\t0/0:9,0:9:27:.:.:0,27,244\n",
      "\n",
      "100.0% retained\n"
     ]
    },
    {
     "name": "stderr",
     "output_type": "stream",
     "text": [
      "/Users/pmonnahan/anaconda3/lib/python3.6/site-packages/plotnine/stats/stat_bin.py:90: UserWarning: 'stat_bin()' using 'bins = 36'. Pick better value with 'binwidth'.\n",
      "  warn(msg.format(params['bins']))\n"
     ]
    },
    {
     "data": {
      "image/png": "[encoded data removed]",
      "text/plain": [
       "<matplotlib.figure.Figure at 0x10fd1da58>"
      ]
     },
     "metadata": {},
     "output_type": "display_data"
    },
    {
     "data": {
      "text/plain": [
       "<ggplot: (-9223372036560727180)>"
      ]
     },
     "execution_count": 99,
     "metadata": {},
     "output_type": "execute_result"
    }
   ],
   "source": [
    "ret,tot = Filter(vcf_file, 'QD', 0,600,10000, 100000)\n",
    "\n",
    "dat=pd.DataFrame({'info':ret, 'data':['Retained' for j in ret]})\n",
    "dat=dat.append(pd.DataFrame({'info':tot, 'data':['Total' for j in tot]}))\n",
    "(ggplot(dat,aes(x='info'))+geom_histogram()+facet_wrap('~data',scales='free'))"
   ]
  },
  {
   "cell_type": "code",
   "execution_count": 46,
   "metadata": {},
   "outputs": [
    {
     "name": "stdout",
     "output_type": "stream",
     "text": [
      "sNNffold_9\t534660\t.\tC\t*\t443.05\t.\tAC=4;AF=0.037;AN=108;DP=677;ExcessHet=0.0358;FS=0;InbreedingCoeff=0.3241;MLEAC=3;MLEAF=0.028;QD=29.55;SOR=1.802\tGT:AD:DP:GQ:PGT:PID:PL\t0/0:1,0:1:3:.:.:0,3,42\t./.:0,0:0:.:.:.:0,0,0\t0/0:2,0:2:6:.:.:0,6,72\t0/0:2,0:2:6:.:.:0,6,83\t./.:0,0:0:.:.:.:0,0,0\t0/0:3,0:3:6:.:.:0,6,90\t0/0:1,0:1:3:.:.:0,3,29\t./.:0,0:0:.:.:.:0,0,0\t./.:3,0:3:.:.:.:0,0,0\t0/0:3,0:3:9:.:.:0,9,88\t./.:7,0:7:.:.:.:0,0,0\t0/0:17,0:17:51:.:.:0,51,702\t./.:0,0:0:.:.:.:0,0,0\t0/0:1,0:1:3:.:.:0,3,39\t0/0:12,0:12:33:.:.:0,33,495\t./.:0,0:0:.:.:.:0,0,0\t0/0:13,0:13:33:.:.:0,33,495\t./.:0,0:0:.:.:.:0,0,0\t0/0:5,0:5:15:.:.:0,15,167\t./.:0,0:0:.:.:.:0,0,0\t0/0:31,0:31:81:.:.:0,81,1215\t./.:17,0:17:.:.:.:0,0,0\t./.:0,0:0:.:.:.:0,0,0\t1/1:0,5:5:15:1|1:534579_G_T:225,15,0\t0/0:11,0:11:30:.:.:0,30,450\t./.:.:.:.:.:.:.\t./.:1,0:1:.:.:.:0,0,0\t0/0:3,0:3:9:.:.:0,9,114\t0/0:4,0:4:12:.:.:0,12,165\t0/0:3,0:3:9:.:.:0,9,93\t./.:0,0:0:.:.:.:0,0,0\t0/0:23,0:23:66:.:.:0,66,990\t1/1:0,6:6:21:.:.:273,21,0\t./.:0,0:0:.:.:.:0,0,0\t./.:0,0:0:.:.:.:0,0,0\t./.:17,0:17:.:.:.:0,0,0\t0/0:10,0:10:30:.:.:0,30,299\t0/0:3,0:3:6:.:.:0,6,90\t0/0:8,0:8:3:.:.:0,3,45\t0/0:11,0:11:0:.:.:0,0,199\t0/0:13,0:13:39:.:.:0,39,429\t0/0:3,0:3:6:.:.:0,6,90\t0/0:17,0:17:0:.:.:0,0,384\t0/0:19,0:19:30:.:.:0,30,692\t./.:19,0:19:.:.:.:0,0,0\t0/0:19,0:19:39:.:.:0,39,585\t./.:.:.:.:.:.:.\t./.:.:.:.:.:.:.\t0/0:19,0:19:21:.:.:0,21,315\t0/0:22,0:22:33:.:.:0,33,495\t0/0:15,0:15:0:.:.:0,0,345\t./.:9,0:9:.:.:.:0,0,0\t./.:10,0:10:.:.:.:0,0,0\t./.:0,0:0:.:.:.:0,0,0\t0/0:3,0:3:9:.:.:0,9,122\t./.:1,0:1:.:.:.:0,0,0\t./.:0,0:0:.:.:.:0,0,0\t0/0:5,0:5:9:.:.:0,9,135\t0/0:25,0:25:13:.:.:0,13,727\t./.:8,0:8:.:.:.:0,0,0\t0/0:8,0:8:24:.:.:0,24,322\t./.:0,0:0:.:.:.:0,0,0\t./.:0,0:0:.:.:.:0,0,0\t./.:9,0:9:.:.:.:0,0,0\t0/0:11,0:11:33:.:.:0,33,386\t0/0:19,0:19:22:.:.:0,22,555\t./.:0,0:0:.:.:.:0,0,0\t0/0:3,0:3:6:.:.:0,6,90\t0/0:21,0:21:63:.:.:0,63,707\t./.:0,0:0:.:.:.:0,0,0\t0/0:17,0:17:30:.:.:0,30,450\t./.:8,0:8:.:.:.:0,0,0\t0/0:8,0:8:12:.:.:0,12,180\t./.:1,0:1:.:.:.:0,0,0\t./.:0,0:0:.:.:.:0,0,0\t0/0:5,0:5:15:.:.:0,15,188\t0/0:14,0:14:0:.:.:0,0,272\t./.:0,0:0:.:.:.:0,0,0\t./.:2,0:2:.:.:.:0,0,0\t0/0:8,0:8:24:.:.:0,24,261\t0/0:30,0:30:72:.:.:0,72,1080\t0/0:3,0:3:0:.:.:0,0,6\t0/0:3,0:3:9:.:.:0,9,116\t0/0:5,0:5:6:.:.:0,6,90\t./.:5,0:5:.:.:.:0,0,0\t0/0:5,0:5:15:.:.:0,15,211\t./.:0,0:0:.:.:.:0,0,0\t./.:0,0:0:.:.:.:0,0,0\t0/0:6,0:6:6:.:.:0,6,90\t0/0:11,0:11:12:.:.:0,12,180\t0/0:8,0:8:15:.:.:0,15,225\t./.:11,0:11:.:.:.:0,0,0\t0/0:11,0:11:33:.:.:0,33,384\t0/0:12,0:12:33:.:.:0,33,495\n",
      "\n"
     ]
    }
   ],
   "source": [
    "vcf=VCF(vcf_file)\n",
    "for i, variant in enumerate(vcf):\n",
    "#     print(variant)\n",
    "    if i == 100000:\n",
    "        var=variant\n",
    "    elif i > 100000:\n",
    "        break\n",
    "print(var)"
   ]
  },
  {
   "cell_type": "code",
   "execution_count": null,
   "metadata": {
    "collapsed": true
   },
   "outputs": [],
   "source": []
  }
 ],
 "metadata": {
  "kernelspec": {
   "display_name": "Python 3",
   "language": "python",
   "name": "python3"
  },
  "language_info": {
   "codemirror_mode": {
    "name": "ipython",
    "version": 3
   },
   "file_extension": ".py",
   "mimetype": "text/x-python",
   "name": "python",
   "nbconvert_exporter": "python",
   "pygments_lexer": "ipython3",
   "version": "3.6.3"
  }
 },
 "nbformat": 4,
 "nbformat_minor": 2
}
